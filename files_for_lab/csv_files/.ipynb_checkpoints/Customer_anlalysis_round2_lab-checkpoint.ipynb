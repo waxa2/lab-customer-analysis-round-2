{
 "cells": [
  {
   "cell_type": "code",
   "execution_count": 2,
   "metadata": {},
   "outputs": [],
   "source": [
    "import pandas as pd\n",
    "import numpy as np\n",
    "import seaborn as sb"
   ]
  },
  {
   "cell_type": "code",
   "execution_count": 3,
   "metadata": {},
   "outputs": [
    {
     "data": {
      "text/html": [
       "<div>\n",
       "<style scoped>\n",
       "    .dataframe tbody tr th:only-of-type {\n",
       "        vertical-align: middle;\n",
       "    }\n",
       "\n",
       "    .dataframe tbody tr th {\n",
       "        vertical-align: top;\n",
       "    }\n",
       "\n",
       "    .dataframe thead th {\n",
       "        text-align: right;\n",
       "    }\n",
       "</style>\n",
       "<table border=\"1\" class=\"dataframe\">\n",
       "  <thead>\n",
       "    <tr style=\"text-align: right;\">\n",
       "      <th></th>\n",
       "      <th>Unnamed: 0</th>\n",
       "      <th>Customer</th>\n",
       "      <th>State</th>\n",
       "      <th>Customer Lifetime Value</th>\n",
       "      <th>Response</th>\n",
       "      <th>Coverage</th>\n",
       "      <th>Education</th>\n",
       "      <th>Effective To Date</th>\n",
       "      <th>EmploymentStatus</th>\n",
       "      <th>Gender</th>\n",
       "      <th>...</th>\n",
       "      <th>Number of Open Complaints</th>\n",
       "      <th>Number of Policies</th>\n",
       "      <th>Policy Type</th>\n",
       "      <th>Policy</th>\n",
       "      <th>Renew Offer Type</th>\n",
       "      <th>Sales Channel</th>\n",
       "      <th>Total Claim Amount</th>\n",
       "      <th>Vehicle Class</th>\n",
       "      <th>Vehicle Size</th>\n",
       "      <th>Vehicle Type</th>\n",
       "    </tr>\n",
       "  </thead>\n",
       "  <tbody>\n",
       "    <tr>\n",
       "      <th>0</th>\n",
       "      <td>0</td>\n",
       "      <td>DK49336</td>\n",
       "      <td>Arizona</td>\n",
       "      <td>4809.216960</td>\n",
       "      <td>No</td>\n",
       "      <td>Basic</td>\n",
       "      <td>College</td>\n",
       "      <td>2/18/11</td>\n",
       "      <td>Employed</td>\n",
       "      <td>M</td>\n",
       "      <td>...</td>\n",
       "      <td>0.0</td>\n",
       "      <td>9</td>\n",
       "      <td>Corporate Auto</td>\n",
       "      <td>Corporate L3</td>\n",
       "      <td>Offer3</td>\n",
       "      <td>Agent</td>\n",
       "      <td>292.800000</td>\n",
       "      <td>Four-Door Car</td>\n",
       "      <td>Medsize</td>\n",
       "      <td>NaN</td>\n",
       "    </tr>\n",
       "    <tr>\n",
       "      <th>1</th>\n",
       "      <td>1</td>\n",
       "      <td>KX64629</td>\n",
       "      <td>California</td>\n",
       "      <td>2228.525238</td>\n",
       "      <td>No</td>\n",
       "      <td>Basic</td>\n",
       "      <td>College</td>\n",
       "      <td>1/18/11</td>\n",
       "      <td>Unemployed</td>\n",
       "      <td>F</td>\n",
       "      <td>...</td>\n",
       "      <td>0.0</td>\n",
       "      <td>1</td>\n",
       "      <td>Personal Auto</td>\n",
       "      <td>Personal L3</td>\n",
       "      <td>Offer4</td>\n",
       "      <td>Call Center</td>\n",
       "      <td>744.924331</td>\n",
       "      <td>Four-Door Car</td>\n",
       "      <td>Medsize</td>\n",
       "      <td>NaN</td>\n",
       "    </tr>\n",
       "  </tbody>\n",
       "</table>\n",
       "<p>2 rows × 26 columns</p>\n",
       "</div>"
      ],
      "text/plain": [
       "   Unnamed: 0 Customer       State  Customer Lifetime Value Response Coverage  \\\n",
       "0           0  DK49336     Arizona              4809.216960       No    Basic   \n",
       "1           1  KX64629  California              2228.525238       No    Basic   \n",
       "\n",
       "  Education Effective To Date EmploymentStatus Gender  ...  \\\n",
       "0   College           2/18/11         Employed      M  ...   \n",
       "1   College           1/18/11       Unemployed      F  ...   \n",
       "\n",
       "   Number of Open Complaints Number of Policies     Policy Type        Policy  \\\n",
       "0                        0.0                  9  Corporate Auto  Corporate L3   \n",
       "1                        0.0                  1   Personal Auto   Personal L3   \n",
       "\n",
       "   Renew Offer Type  Sales Channel  Total Claim Amount  Vehicle Class  \\\n",
       "0            Offer3          Agent          292.800000  Four-Door Car   \n",
       "1            Offer4    Call Center          744.924331  Four-Door Car   \n",
       "\n",
       "  Vehicle Size Vehicle Type  \n",
       "0      Medsize          NaN  \n",
       "1      Medsize          NaN  \n",
       "\n",
       "[2 rows x 26 columns]"
      ]
     },
     "execution_count": 3,
     "metadata": {},
     "output_type": "execute_result"
    }
   ],
   "source": [
    "df_cust=pd.read_csv('marketing_customer_analysis.csv')\n",
    "df_cust.head(2)"
   ]
  },
  {
   "cell_type": "code",
   "execution_count": 4,
   "metadata": {},
   "outputs": [
    {
     "data": {
      "text/plain": [
       "(10910, 26)"
      ]
     },
     "execution_count": 4,
     "metadata": {},
     "output_type": "execute_result"
    }
   ],
   "source": [
    "# 1. Show the dataframe shape\n",
    "df_cust.shape"
   ]
  },
  {
   "cell_type": "code",
   "execution_count": 5,
   "metadata": {},
   "outputs": [
    {
     "data": {
      "text/plain": [
       "Index(['Unnamed: 0', 'Customer', 'State', 'Customer Lifetime Value',\n",
       "       'Response', 'Coverage', 'Education', 'Effective To Date',\n",
       "       'EmploymentStatus', 'Gender', 'Income', 'Location Code',\n",
       "       'Marital Status', 'Monthly Premium Auto', 'Months Since Last Claim',\n",
       "       'Months Since Policy Inception', 'Number of Open Complaints',\n",
       "       'Number of Policies', 'Policy Type', 'Policy', 'Renew Offer Type',\n",
       "       'Sales Channel', 'Total Claim Amount', 'Vehicle Class', 'Vehicle Size',\n",
       "       'Vehicle Type'],\n",
       "      dtype='object')"
      ]
     },
     "execution_count": 5,
     "metadata": {},
     "output_type": "execute_result"
    }
   ],
   "source": [
    "# 2. Standardize header names\n",
    "df_cust.columns"
   ]
  },
  {
   "cell_type": "code",
   "execution_count": 6,
   "metadata": {},
   "outputs": [
    {
     "data": {
      "text/plain": [
       "Index(['unnamed_0', 'customer', 'state', 'customer_lifetime_value', 'response',\n",
       "       'coverage', 'education', 'effective_to_date', 'employmentstatus',\n",
       "       'gender', 'income', 'location_code', 'marital_status',\n",
       "       'monthly_premium_auto', 'months_since_last_claim',\n",
       "       'months_since_policy_inception', 'number_of_open_complaints',\n",
       "       'number_of_policies', 'policy_type', 'policy', 'renew_offer_type',\n",
       "       'sales_channel', 'total_claim_amount', 'vehicle_class', 'vehicle_size',\n",
       "       'vehicle_type'],\n",
       "      dtype='object')"
      ]
     },
     "execution_count": 6,
     "metadata": {},
     "output_type": "execute_result"
    }
   ],
   "source": [
    "df_cust.columns=df_cust.columns.str.lower().str.replace(' ', '_').str.replace(':', '')\n",
    "df_cust.columns"
   ]
  },
  {
   "cell_type": "code",
   "execution_count": 7,
   "metadata": {},
   "outputs": [
    {
     "data": {
      "text/plain": [
       "unnamed_0                          int64\n",
       "customer                          object\n",
       "state                             object\n",
       "customer_lifetime_value          float64\n",
       "response                          object\n",
       "coverage                          object\n",
       "education                         object\n",
       "effective_to_date                 object\n",
       "employmentstatus                  object\n",
       "gender                            object\n",
       "income                             int64\n",
       "location_code                     object\n",
       "marital_status                    object\n",
       "monthly_premium_auto               int64\n",
       "months_since_last_claim          float64\n",
       "months_since_policy_inception      int64\n",
       "number_of_open_complaints        float64\n",
       "number_of_policies                 int64\n",
       "policy_type                       object\n",
       "policy                            object\n",
       "renew_offer_type                  object\n",
       "sales_channel                     object\n",
       "total_claim_amount               float64\n",
       "vehicle_class                     object\n",
       "vehicle_size                      object\n",
       "vehicle_type                      object\n",
       "dtype: object"
      ]
     },
     "execution_count": 7,
     "metadata": {},
     "output_type": "execute_result"
    }
   ],
   "source": [
    "# 3. Which columns are numerical?\n",
    "df_cust.dtypes"
   ]
  },
  {
   "cell_type": "code",
   "execution_count": 8,
   "metadata": {},
   "outputs": [
    {
     "data": {
      "text/plain": [
       "['unnamed_0',\n",
       " 'customer_lifetime_value',\n",
       " 'income',\n",
       " 'monthly_premium_auto',\n",
       " 'months_since_last_claim',\n",
       " 'months_since_policy_inception',\n",
       " 'number_of_open_complaints',\n",
       " 'number_of_policies',\n",
       " 'total_claim_amount']"
      ]
     },
     "execution_count": 8,
     "metadata": {},
     "output_type": "execute_result"
    }
   ],
   "source": [
    "# These are the numerical columns\n",
    "\n",
    "df_cust.select_dtypes(include=np.number).columns.tolist()"
   ]
  },
  {
   "cell_type": "code",
   "execution_count": 9,
   "metadata": {},
   "outputs": [
    {
     "data": {
      "text/plain": [
       "['customer',\n",
       " 'state',\n",
       " 'response',\n",
       " 'coverage',\n",
       " 'education',\n",
       " 'effective_to_date',\n",
       " 'employmentstatus',\n",
       " 'gender',\n",
       " 'location_code',\n",
       " 'marital_status',\n",
       " 'policy_type',\n",
       " 'policy',\n",
       " 'renew_offer_type',\n",
       " 'sales_channel',\n",
       " 'vehicle_class',\n",
       " 'vehicle_size',\n",
       " 'vehicle_type']"
      ]
     },
     "execution_count": 9,
     "metadata": {},
     "output_type": "execute_result"
    }
   ],
   "source": [
    "# 4. Which columns are categorical?\n",
    "\n",
    "df_cust.select_dtypes(include=np.object).columns.tolist()"
   ]
  },
  {
   "cell_type": "code",
   "execution_count": 10,
   "metadata": {},
   "outputs": [
    {
     "data": {
      "text/html": [
       "<div>\n",
       "<style scoped>\n",
       "    .dataframe tbody tr th:only-of-type {\n",
       "        vertical-align: middle;\n",
       "    }\n",
       "\n",
       "    .dataframe tbody tr th {\n",
       "        vertical-align: top;\n",
       "    }\n",
       "\n",
       "    .dataframe thead th {\n",
       "        text-align: right;\n",
       "    }\n",
       "</style>\n",
       "<table border=\"1\" class=\"dataframe\">\n",
       "  <thead>\n",
       "    <tr style=\"text-align: right;\">\n",
       "      <th></th>\n",
       "      <th>unnamed_0</th>\n",
       "      <th>customer</th>\n",
       "      <th>state</th>\n",
       "      <th>customer_lifetime_value</th>\n",
       "      <th>response</th>\n",
       "      <th>coverage</th>\n",
       "      <th>education</th>\n",
       "      <th>effective_to_date</th>\n",
       "      <th>employmentstatus</th>\n",
       "      <th>gender</th>\n",
       "      <th>income</th>\n",
       "      <th>location_code</th>\n",
       "      <th>marital_status</th>\n",
       "      <th>monthly_premium_auto</th>\n",
       "      <th>months_since_last_claim</th>\n",
       "      <th>months_since_policy_inception</th>\n",
       "      <th>number_of_open_complaints</th>\n",
       "      <th>number_of_policies</th>\n",
       "      <th>policy_type</th>\n",
       "      <th>policy</th>\n",
       "      <th>renew_offer_type</th>\n",
       "      <th>sales_channel</th>\n",
       "      <th>total_claim_amount</th>\n",
       "      <th>vehicle_class</th>\n",
       "      <th>vehicle_size</th>\n",
       "      <th>vehicle_type</th>\n",
       "    </tr>\n",
       "  </thead>\n",
       "  <tbody>\n",
       "    <tr>\n",
       "      <th>5</th>\n",
       "      <td>5</td>\n",
       "      <td>HO81102</td>\n",
       "      <td>NaN</td>\n",
       "      <td>4745.181764</td>\n",
       "      <td>NaN</td>\n",
       "      <td>Basic</td>\n",
       "      <td>High School or Below</td>\n",
       "      <td>2/14/11</td>\n",
       "      <td>Employed</td>\n",
       "      <td>M</td>\n",
       "      <td>50549</td>\n",
       "      <td>Suburban</td>\n",
       "      <td>Divorced</td>\n",
       "      <td>61</td>\n",
       "      <td>2.0</td>\n",
       "      <td>73</td>\n",
       "      <td>0.0</td>\n",
       "      <td>7</td>\n",
       "      <td>Personal Auto</td>\n",
       "      <td>Personal L3</td>\n",
       "      <td>Offer1</td>\n",
       "      <td>Agent</td>\n",
       "      <td>292.800000</td>\n",
       "      <td>Four-Door Car</td>\n",
       "      <td>Medsize</td>\n",
       "      <td>A</td>\n",
       "    </tr>\n",
       "    <tr>\n",
       "      <th>11</th>\n",
       "      <td>11</td>\n",
       "      <td>GE63585</td>\n",
       "      <td>NaN</td>\n",
       "      <td>2420.711888</td>\n",
       "      <td>NaN</td>\n",
       "      <td>Basic</td>\n",
       "      <td>Bachelor</td>\n",
       "      <td>2/7/11</td>\n",
       "      <td>Employed</td>\n",
       "      <td>M</td>\n",
       "      <td>31710</td>\n",
       "      <td>Urban</td>\n",
       "      <td>Divorced</td>\n",
       "      <td>62</td>\n",
       "      <td>5.0</td>\n",
       "      <td>29</td>\n",
       "      <td>0.0</td>\n",
       "      <td>1</td>\n",
       "      <td>Corporate Auto</td>\n",
       "      <td>Corporate L3</td>\n",
       "      <td>Offer1</td>\n",
       "      <td>Call Center</td>\n",
       "      <td>199.551735</td>\n",
       "      <td>Two-Door Car</td>\n",
       "      <td>Medsize</td>\n",
       "      <td>NaN</td>\n",
       "    </tr>\n",
       "    <tr>\n",
       "      <th>58</th>\n",
       "      <td>58</td>\n",
       "      <td>BR69566</td>\n",
       "      <td>NaN</td>\n",
       "      <td>14019.833140</td>\n",
       "      <td>NaN</td>\n",
       "      <td>Basic</td>\n",
       "      <td>College</td>\n",
       "      <td>2/18/11</td>\n",
       "      <td>Employed</td>\n",
       "      <td>M</td>\n",
       "      <td>31739</td>\n",
       "      <td>Suburban</td>\n",
       "      <td>Divorced</td>\n",
       "      <td>71</td>\n",
       "      <td>10.0</td>\n",
       "      <td>29</td>\n",
       "      <td>0.0</td>\n",
       "      <td>2</td>\n",
       "      <td>Personal Auto</td>\n",
       "      <td>Personal L3</td>\n",
       "      <td>Offer4</td>\n",
       "      <td>Call Center</td>\n",
       "      <td>469.882367</td>\n",
       "      <td>Two-Door Car</td>\n",
       "      <td>Small</td>\n",
       "      <td>NaN</td>\n",
       "    </tr>\n",
       "    <tr>\n",
       "      <th>62</th>\n",
       "      <td>62</td>\n",
       "      <td>UF44021</td>\n",
       "      <td>NaN</td>\n",
       "      <td>2108.493744</td>\n",
       "      <td>NaN</td>\n",
       "      <td>Basic</td>\n",
       "      <td>Bachelor</td>\n",
       "      <td>1/2/11</td>\n",
       "      <td>Unemployed</td>\n",
       "      <td>M</td>\n",
       "      <td>0</td>\n",
       "      <td>Suburban</td>\n",
       "      <td>Single</td>\n",
       "      <td>61</td>\n",
       "      <td>8.0</td>\n",
       "      <td>91</td>\n",
       "      <td>0.0</td>\n",
       "      <td>1</td>\n",
       "      <td>Personal Auto</td>\n",
       "      <td>Personal L2</td>\n",
       "      <td>Offer1</td>\n",
       "      <td>Agent</td>\n",
       "      <td>351.856810</td>\n",
       "      <td>Two-Door Car</td>\n",
       "      <td>Medsize</td>\n",
       "      <td>NaN</td>\n",
       "    </tr>\n",
       "    <tr>\n",
       "      <th>126</th>\n",
       "      <td>126</td>\n",
       "      <td>TE60343</td>\n",
       "      <td>NaN</td>\n",
       "      <td>4716.264294</td>\n",
       "      <td>NaN</td>\n",
       "      <td>Basic</td>\n",
       "      <td>High School or Below</td>\n",
       "      <td>2/25/11</td>\n",
       "      <td>Employed</td>\n",
       "      <td>M</td>\n",
       "      <td>25746</td>\n",
       "      <td>Suburban</td>\n",
       "      <td>Married</td>\n",
       "      <td>61</td>\n",
       "      <td>0.0</td>\n",
       "      <td>84</td>\n",
       "      <td>1.0</td>\n",
       "      <td>3</td>\n",
       "      <td>Corporate Auto</td>\n",
       "      <td>Corporate L3</td>\n",
       "      <td>Offer2</td>\n",
       "      <td>Agent</td>\n",
       "      <td>292.800000</td>\n",
       "      <td>Four-Door Car</td>\n",
       "      <td>Medsize</td>\n",
       "      <td>A</td>\n",
       "    </tr>\n",
       "    <tr>\n",
       "      <th>...</th>\n",
       "      <td>...</td>\n",
       "      <td>...</td>\n",
       "      <td>...</td>\n",
       "      <td>...</td>\n",
       "      <td>...</td>\n",
       "      <td>...</td>\n",
       "      <td>...</td>\n",
       "      <td>...</td>\n",
       "      <td>...</td>\n",
       "      <td>...</td>\n",
       "      <td>...</td>\n",
       "      <td>...</td>\n",
       "      <td>...</td>\n",
       "      <td>...</td>\n",
       "      <td>...</td>\n",
       "      <td>...</td>\n",
       "      <td>...</td>\n",
       "      <td>...</td>\n",
       "      <td>...</td>\n",
       "      <td>...</td>\n",
       "      <td>...</td>\n",
       "      <td>...</td>\n",
       "      <td>...</td>\n",
       "      <td>...</td>\n",
       "      <td>...</td>\n",
       "      <td>...</td>\n",
       "    </tr>\n",
       "    <tr>\n",
       "      <th>10837</th>\n",
       "      <td>10837</td>\n",
       "      <td>IJ40048</td>\n",
       "      <td>NaN</td>\n",
       "      <td>4978.950257</td>\n",
       "      <td>NaN</td>\n",
       "      <td>Basic</td>\n",
       "      <td>Bachelor</td>\n",
       "      <td>1/31/11</td>\n",
       "      <td>Employed</td>\n",
       "      <td>M</td>\n",
       "      <td>28695</td>\n",
       "      <td>Urban</td>\n",
       "      <td>Single</td>\n",
       "      <td>64</td>\n",
       "      <td>17.0</td>\n",
       "      <td>87</td>\n",
       "      <td>0.0</td>\n",
       "      <td>4</td>\n",
       "      <td>Corporate Auto</td>\n",
       "      <td>Corporate L2</td>\n",
       "      <td>Offer1</td>\n",
       "      <td>Branch</td>\n",
       "      <td>221.241837</td>\n",
       "      <td>Four-Door Car</td>\n",
       "      <td>Medsize</td>\n",
       "      <td>A</td>\n",
       "    </tr>\n",
       "    <tr>\n",
       "      <th>10849</th>\n",
       "      <td>10849</td>\n",
       "      <td>SO38188</td>\n",
       "      <td>NaN</td>\n",
       "      <td>5308.617246</td>\n",
       "      <td>NaN</td>\n",
       "      <td>Extended</td>\n",
       "      <td>Bachelor</td>\n",
       "      <td>1/24/11</td>\n",
       "      <td>Employed</td>\n",
       "      <td>M</td>\n",
       "      <td>40178</td>\n",
       "      <td>Suburban</td>\n",
       "      <td>Married</td>\n",
       "      <td>136</td>\n",
       "      <td>7.0</td>\n",
       "      <td>13</td>\n",
       "      <td>0.0</td>\n",
       "      <td>1</td>\n",
       "      <td>Special Auto</td>\n",
       "      <td>Special L2</td>\n",
       "      <td>Offer1</td>\n",
       "      <td>Agent</td>\n",
       "      <td>652.800000</td>\n",
       "      <td>SUV</td>\n",
       "      <td>Medsize</td>\n",
       "      <td>NaN</td>\n",
       "    </tr>\n",
       "    <tr>\n",
       "      <th>10874</th>\n",
       "      <td>10874</td>\n",
       "      <td>PD52748</td>\n",
       "      <td>NaN</td>\n",
       "      <td>10036.536340</td>\n",
       "      <td>NaN</td>\n",
       "      <td>Extended</td>\n",
       "      <td>High School or Below</td>\n",
       "      <td>2/12/11</td>\n",
       "      <td>Unemployed</td>\n",
       "      <td>F</td>\n",
       "      <td>0</td>\n",
       "      <td>Suburban</td>\n",
       "      <td>Single</td>\n",
       "      <td>134</td>\n",
       "      <td>15.0</td>\n",
       "      <td>92</td>\n",
       "      <td>1.0</td>\n",
       "      <td>8</td>\n",
       "      <td>Personal Auto</td>\n",
       "      <td>Personal L3</td>\n",
       "      <td>Offer1</td>\n",
       "      <td>Call Center</td>\n",
       "      <td>1353.289060</td>\n",
       "      <td>SUV</td>\n",
       "      <td>Medsize</td>\n",
       "      <td>NaN</td>\n",
       "    </tr>\n",
       "    <tr>\n",
       "      <th>10894</th>\n",
       "      <td>10894</td>\n",
       "      <td>EX63393</td>\n",
       "      <td>NaN</td>\n",
       "      <td>6314.492009</td>\n",
       "      <td>NaN</td>\n",
       "      <td>Extended</td>\n",
       "      <td>Master</td>\n",
       "      <td>2/27/11</td>\n",
       "      <td>Employed</td>\n",
       "      <td>F</td>\n",
       "      <td>66947</td>\n",
       "      <td>Suburban</td>\n",
       "      <td>Married</td>\n",
       "      <td>78</td>\n",
       "      <td>13.0</td>\n",
       "      <td>12</td>\n",
       "      <td>0.0</td>\n",
       "      <td>6</td>\n",
       "      <td>Personal Auto</td>\n",
       "      <td>Personal L1</td>\n",
       "      <td>Offer3</td>\n",
       "      <td>Agent</td>\n",
       "      <td>374.400000</td>\n",
       "      <td>Four-Door Car</td>\n",
       "      <td>Small</td>\n",
       "      <td>NaN</td>\n",
       "    </tr>\n",
       "    <tr>\n",
       "      <th>10909</th>\n",
       "      <td>10909</td>\n",
       "      <td>IV32877</td>\n",
       "      <td>NaN</td>\n",
       "      <td>6857.519928</td>\n",
       "      <td>NaN</td>\n",
       "      <td>Basic</td>\n",
       "      <td>Bachelor</td>\n",
       "      <td>1/8/11</td>\n",
       "      <td>Unemployed</td>\n",
       "      <td>M</td>\n",
       "      <td>0</td>\n",
       "      <td>Suburban</td>\n",
       "      <td>Single</td>\n",
       "      <td>101</td>\n",
       "      <td>31.0</td>\n",
       "      <td>1</td>\n",
       "      <td>0.0</td>\n",
       "      <td>3</td>\n",
       "      <td>Personal Auto</td>\n",
       "      <td>Personal L1</td>\n",
       "      <td>Offer4</td>\n",
       "      <td>Web</td>\n",
       "      <td>1021.719397</td>\n",
       "      <td>SUV</td>\n",
       "      <td>Medsize</td>\n",
       "      <td>NaN</td>\n",
       "    </tr>\n",
       "  </tbody>\n",
       "</table>\n",
       "<p>631 rows × 26 columns</p>\n",
       "</div>"
      ],
      "text/plain": [
       "       unnamed_0 customer state  customer_lifetime_value response  coverage  \\\n",
       "5              5  HO81102   NaN              4745.181764      NaN     Basic   \n",
       "11            11  GE63585   NaN              2420.711888      NaN     Basic   \n",
       "58            58  BR69566   NaN             14019.833140      NaN     Basic   \n",
       "62            62  UF44021   NaN              2108.493744      NaN     Basic   \n",
       "126          126  TE60343   NaN              4716.264294      NaN     Basic   \n",
       "...          ...      ...   ...                      ...      ...       ...   \n",
       "10837      10837  IJ40048   NaN              4978.950257      NaN     Basic   \n",
       "10849      10849  SO38188   NaN              5308.617246      NaN  Extended   \n",
       "10874      10874  PD52748   NaN             10036.536340      NaN  Extended   \n",
       "10894      10894  EX63393   NaN              6314.492009      NaN  Extended   \n",
       "10909      10909  IV32877   NaN              6857.519928      NaN     Basic   \n",
       "\n",
       "                  education effective_to_date employmentstatus gender  income  \\\n",
       "5      High School or Below           2/14/11         Employed      M   50549   \n",
       "11                 Bachelor            2/7/11         Employed      M   31710   \n",
       "58                  College           2/18/11         Employed      M   31739   \n",
       "62                 Bachelor            1/2/11       Unemployed      M       0   \n",
       "126    High School or Below           2/25/11         Employed      M   25746   \n",
       "...                     ...               ...              ...    ...     ...   \n",
       "10837              Bachelor           1/31/11         Employed      M   28695   \n",
       "10849              Bachelor           1/24/11         Employed      M   40178   \n",
       "10874  High School or Below           2/12/11       Unemployed      F       0   \n",
       "10894                Master           2/27/11         Employed      F   66947   \n",
       "10909              Bachelor            1/8/11       Unemployed      M       0   \n",
       "\n",
       "      location_code marital_status  monthly_premium_auto  \\\n",
       "5          Suburban       Divorced                    61   \n",
       "11            Urban       Divorced                    62   \n",
       "58         Suburban       Divorced                    71   \n",
       "62         Suburban         Single                    61   \n",
       "126        Suburban        Married                    61   \n",
       "...             ...            ...                   ...   \n",
       "10837         Urban         Single                    64   \n",
       "10849      Suburban        Married                   136   \n",
       "10874      Suburban         Single                   134   \n",
       "10894      Suburban        Married                    78   \n",
       "10909      Suburban         Single                   101   \n",
       "\n",
       "       months_since_last_claim  months_since_policy_inception  \\\n",
       "5                          2.0                             73   \n",
       "11                         5.0                             29   \n",
       "58                        10.0                             29   \n",
       "62                         8.0                             91   \n",
       "126                        0.0                             84   \n",
       "...                        ...                            ...   \n",
       "10837                     17.0                             87   \n",
       "10849                      7.0                             13   \n",
       "10874                     15.0                             92   \n",
       "10894                     13.0                             12   \n",
       "10909                     31.0                              1   \n",
       "\n",
       "       number_of_open_complaints  number_of_policies     policy_type  \\\n",
       "5                            0.0                   7   Personal Auto   \n",
       "11                           0.0                   1  Corporate Auto   \n",
       "58                           0.0                   2   Personal Auto   \n",
       "62                           0.0                   1   Personal Auto   \n",
       "126                          1.0                   3  Corporate Auto   \n",
       "...                          ...                 ...             ...   \n",
       "10837                        0.0                   4  Corporate Auto   \n",
       "10849                        0.0                   1    Special Auto   \n",
       "10874                        1.0                   8   Personal Auto   \n",
       "10894                        0.0                   6   Personal Auto   \n",
       "10909                        0.0                   3   Personal Auto   \n",
       "\n",
       "             policy renew_offer_type sales_channel  total_claim_amount  \\\n",
       "5       Personal L3           Offer1         Agent          292.800000   \n",
       "11     Corporate L3           Offer1   Call Center          199.551735   \n",
       "58      Personal L3           Offer4   Call Center          469.882367   \n",
       "62      Personal L2           Offer1         Agent          351.856810   \n",
       "126    Corporate L3           Offer2         Agent          292.800000   \n",
       "...             ...              ...           ...                 ...   \n",
       "10837  Corporate L2           Offer1        Branch          221.241837   \n",
       "10849    Special L2           Offer1         Agent          652.800000   \n",
       "10874   Personal L3           Offer1   Call Center         1353.289060   \n",
       "10894   Personal L1           Offer3         Agent          374.400000   \n",
       "10909   Personal L1           Offer4           Web         1021.719397   \n",
       "\n",
       "       vehicle_class vehicle_size vehicle_type  \n",
       "5      Four-Door Car      Medsize            A  \n",
       "11      Two-Door Car      Medsize          NaN  \n",
       "58      Two-Door Car        Small          NaN  \n",
       "62      Two-Door Car      Medsize          NaN  \n",
       "126    Four-Door Car      Medsize            A  \n",
       "...              ...          ...          ...  \n",
       "10837  Four-Door Car      Medsize            A  \n",
       "10849            SUV      Medsize          NaN  \n",
       "10874            SUV      Medsize          NaN  \n",
       "10894  Four-Door Car        Small          NaN  \n",
       "10909            SUV      Medsize          NaN  \n",
       "\n",
       "[631 rows x 26 columns]"
      ]
     },
     "execution_count": 10,
     "metadata": {},
     "output_type": "execute_result"
    }
   ],
   "source": [
    "# 5. Check and deal with NaN values.\n",
    "pd.set_option('display.max_columns', 500)\n",
    "\n",
    "df_cust.isna().sum()\n",
    "\n",
    "df_cust[df_cust['state'].isna()]\n",
    "\n"
   ]
  },
  {
   "cell_type": "code",
   "execution_count": 11,
   "metadata": {},
   "outputs": [
    {
     "data": {
      "text/plain": [
       "(9134, 26)"
      ]
     },
     "execution_count": 11,
     "metadata": {},
     "output_type": "execute_result"
    }
   ],
   "source": [
    "# 5.1. First of all we are going to delete the rows with more than one value that is not a number as we will consider \n",
    "# that this observation is not reliable\n",
    "\n",
    "df_cust.dropna(thresh=len(df_cust.columns)-1,inplace=True) \n",
    "df_cust.shape"
   ]
  },
  {
   "cell_type": "code",
   "execution_count": 12,
   "metadata": {},
   "outputs": [],
   "source": [
    "# 5.2. We are going to remove all the rows with no value in the columns which show similar amount of Nan values and that are similar\n",
    "# categories.\n",
    "\n",
    "df_cust.dropna(how='any',subset=['state', 'response','months_since_last_claim','number_of_open_complaints','vehicle_class','vehicle_size'], inplace=True)"
   ]
  },
  {
   "cell_type": "code",
   "execution_count": 13,
   "metadata": {},
   "outputs": [
    {
     "data": {
      "text/plain": [
       "Index(['unnamed_0', 'customer', 'state', 'customer_lifetime_value', 'response',\n",
       "       'coverage', 'education', 'effective_to_date', 'employmentstatus',\n",
       "       'gender', 'income', 'location_code', 'marital_status',\n",
       "       'monthly_premium_auto', 'months_since_last_claim',\n",
       "       'months_since_policy_inception', 'number_of_open_complaints',\n",
       "       'number_of_policies', 'policy_type', 'policy', 'renew_offer_type',\n",
       "       'sales_channel', 'total_claim_amount', 'vehicle_class', 'vehicle_size'],\n",
       "      dtype='object')"
      ]
     },
     "execution_count": 13,
     "metadata": {},
     "output_type": "execute_result"
    }
   ],
   "source": [
    "#5.3. We are going to remove the 'vehicle type' column as about the half of the rows have Nan values\n",
    "df_cust=df_cust.iloc[:,:25]\n",
    "df_cust.columns"
   ]
  },
  {
   "cell_type": "code",
   "execution_count": 14,
   "metadata": {},
   "outputs": [],
   "source": [
    "# 6. Datetime format - Extract the months from the dataset and store in a separate column. Then filter the data to show \n",
    "#only the information for the first quarter , ie. January, February and March. Hint: If data from March does not exist, \n",
    "#consider only January and February."
   ]
  },
  {
   "cell_type": "code",
   "execution_count": 18,
   "metadata": {},
   "outputs": [],
   "source": [
    "from datetime import datetime\n",
    "\n",
    "# We are going to provide the date format to the dates.\n",
    "df_cust['effective_to_date']=pd.to_datetime(df_cust['effective_to_date'],format=\"%m/%d/%Y\")\n",
    "\n",
    "# Now we are going to extract the month to another column.\n",
    "\n",
    "df_cust['month'] = pd.DatetimeIndex(df_cust['effective_to_date']).month"
   ]
  },
  {
   "cell_type": "code",
   "execution_count": 19,
   "metadata": {},
   "outputs": [
    {
     "data": {
      "text/plain": [
       "unnamed_0                                 int64\n",
       "customer                                 object\n",
       "state                                    object\n",
       "customer_lifetime_value                 float64\n",
       "response                                 object\n",
       "coverage                                 object\n",
       "education                                object\n",
       "effective_to_date                datetime64[ns]\n",
       "employmentstatus                         object\n",
       "gender                                   object\n",
       "income                                    int64\n",
       "location_code                            object\n",
       "marital_status                           object\n",
       "monthly_premium_auto                      int64\n",
       "months_since_last_claim                 float64\n",
       "months_since_policy_inception             int64\n",
       "number_of_open_complaints               float64\n",
       "number_of_policies                        int64\n",
       "policy_type                              object\n",
       "policy                                   object\n",
       "renew_offer_type                         object\n",
       "sales_channel                            object\n",
       "total_claim_amount                      float64\n",
       "vehicle_class                            object\n",
       "vehicle_size                             object\n",
       "month                                     int64\n",
       "dtype: object"
      ]
     },
     "execution_count": 19,
     "metadata": {},
     "output_type": "execute_result"
    }
   ],
   "source": [
    "df_cust.dtypes"
   ]
  },
  {
   "cell_type": "code",
   "execution_count": 20,
   "metadata": {},
   "outputs": [
    {
     "data": {
      "text/plain": [
       "1    4898\n",
       "2    4236\n",
       "Name: month, dtype: int64"
      ]
     },
     "execution_count": 20,
     "metadata": {},
     "output_type": "execute_result"
    }
   ],
   "source": [
    "# Now we will generate a definitive dataframe just including the observations from January and February \n",
    "# (as there is none from March)\n",
    "df_cust=df_cust[(df_cust['month']==1)|(df_cust['month']==2)|(df_cust['month']==3)]\n",
    "df_cust['month'].value_counts()"
   ]
  },
  {
   "cell_type": "code",
   "execution_count": 21,
   "metadata": {},
   "outputs": [],
   "source": [
    "# 7. BONUS: Put all the previously mentioned data transformations into a function."
   ]
  },
  {
   "cell_type": "markdown",
   "metadata": {},
   "source": [
    "## Here starts the Customer_anlalysis_round3_lab"
   ]
  },
  {
   "cell_type": "code",
   "execution_count": 22,
   "metadata": {},
   "outputs": [],
   "source": [
    "import matplotlib.pyplot as plt"
   ]
  },
  {
   "cell_type": "code",
   "execution_count": 23,
   "metadata": {},
   "outputs": [
    {
     "name": "stdout",
     "output_type": "stream",
     "text": [
      "<class 'pandas.core.frame.DataFrame'>\n",
      "Int64Index: 9134 entries, 0 to 10908\n",
      "Data columns (total 26 columns):\n",
      " #   Column                         Non-Null Count  Dtype         \n",
      "---  ------                         --------------  -----         \n",
      " 0   unnamed_0                      9134 non-null   int64         \n",
      " 1   customer                       9134 non-null   object        \n",
      " 2   state                          9134 non-null   object        \n",
      " 3   customer_lifetime_value        9134 non-null   float64       \n",
      " 4   response                       9134 non-null   object        \n",
      " 5   coverage                       9134 non-null   object        \n",
      " 6   education                      9134 non-null   object        \n",
      " 7   effective_to_date              9134 non-null   datetime64[ns]\n",
      " 8   employmentstatus               9134 non-null   object        \n",
      " 9   gender                         9134 non-null   object        \n",
      " 10  income                         9134 non-null   int64         \n",
      " 11  location_code                  9134 non-null   object        \n",
      " 12  marital_status                 9134 non-null   object        \n",
      " 13  monthly_premium_auto           9134 non-null   int64         \n",
      " 14  months_since_last_claim        9134 non-null   float64       \n",
      " 15  months_since_policy_inception  9134 non-null   int64         \n",
      " 16  number_of_open_complaints      9134 non-null   float64       \n",
      " 17  number_of_policies             9134 non-null   int64         \n",
      " 18  policy_type                    9134 non-null   object        \n",
      " 19  policy                         9134 non-null   object        \n",
      " 20  renew_offer_type               9134 non-null   object        \n",
      " 21  sales_channel                  9134 non-null   object        \n",
      " 22  total_claim_amount             9134 non-null   float64       \n",
      " 23  vehicle_class                  9134 non-null   object        \n",
      " 24  vehicle_size                   9134 non-null   object        \n",
      " 25  month                          9134 non-null   int64         \n",
      "dtypes: datetime64[ns](1), float64(4), int64(6), object(15)\n",
      "memory usage: 1.9+ MB\n"
     ]
    }
   ],
   "source": [
    "# 1. Show DataFrame info.\n",
    "df_cust.info()"
   ]
  },
  {
   "cell_type": "code",
   "execution_count": 24,
   "metadata": {},
   "outputs": [
    {
     "data": {
      "text/html": [
       "<div>\n",
       "<style scoped>\n",
       "    .dataframe tbody tr th:only-of-type {\n",
       "        vertical-align: middle;\n",
       "    }\n",
       "\n",
       "    .dataframe tbody tr th {\n",
       "        vertical-align: top;\n",
       "    }\n",
       "\n",
       "    .dataframe thead th {\n",
       "        text-align: right;\n",
       "    }\n",
       "</style>\n",
       "<table border=\"1\" class=\"dataframe\">\n",
       "  <thead>\n",
       "    <tr style=\"text-align: right;\">\n",
       "      <th></th>\n",
       "      <th>unnamed_0</th>\n",
       "      <th>customer_lifetime_value</th>\n",
       "      <th>income</th>\n",
       "      <th>monthly_premium_auto</th>\n",
       "      <th>months_since_last_claim</th>\n",
       "      <th>months_since_policy_inception</th>\n",
       "      <th>number_of_open_complaints</th>\n",
       "      <th>number_of_policies</th>\n",
       "      <th>total_claim_amount</th>\n",
       "      <th>month</th>\n",
       "    </tr>\n",
       "  </thead>\n",
       "  <tbody>\n",
       "    <tr>\n",
       "      <th>count</th>\n",
       "      <td>9134.000000</td>\n",
       "      <td>9134.000000</td>\n",
       "      <td>9134.000000</td>\n",
       "      <td>9134.000000</td>\n",
       "      <td>9134.000000</td>\n",
       "      <td>9134.000000</td>\n",
       "      <td>9134.000000</td>\n",
       "      <td>9134.000000</td>\n",
       "      <td>9134.000000</td>\n",
       "      <td>9134.000000</td>\n",
       "    </tr>\n",
       "    <tr>\n",
       "      <th>mean</th>\n",
       "      <td>5490.357675</td>\n",
       "      <td>8004.940475</td>\n",
       "      <td>37657.380009</td>\n",
       "      <td>93.219291</td>\n",
       "      <td>15.097000</td>\n",
       "      <td>48.064594</td>\n",
       "      <td>0.384388</td>\n",
       "      <td>2.966170</td>\n",
       "      <td>434.088794</td>\n",
       "      <td>1.463762</td>\n",
       "    </tr>\n",
       "    <tr>\n",
       "      <th>std</th>\n",
       "      <td>3148.183236</td>\n",
       "      <td>6870.967608</td>\n",
       "      <td>30379.904734</td>\n",
       "      <td>34.407967</td>\n",
       "      <td>10.073257</td>\n",
       "      <td>27.905991</td>\n",
       "      <td>0.910384</td>\n",
       "      <td>2.390182</td>\n",
       "      <td>290.500092</td>\n",
       "      <td>0.498712</td>\n",
       "    </tr>\n",
       "    <tr>\n",
       "      <th>min</th>\n",
       "      <td>0.000000</td>\n",
       "      <td>1898.007675</td>\n",
       "      <td>0.000000</td>\n",
       "      <td>61.000000</td>\n",
       "      <td>0.000000</td>\n",
       "      <td>0.000000</td>\n",
       "      <td>0.000000</td>\n",
       "      <td>1.000000</td>\n",
       "      <td>0.099007</td>\n",
       "      <td>1.000000</td>\n",
       "    </tr>\n",
       "    <tr>\n",
       "      <th>25%</th>\n",
       "      <td>2764.250000</td>\n",
       "      <td>3994.251794</td>\n",
       "      <td>0.000000</td>\n",
       "      <td>68.000000</td>\n",
       "      <td>6.000000</td>\n",
       "      <td>24.000000</td>\n",
       "      <td>0.000000</td>\n",
       "      <td>1.000000</td>\n",
       "      <td>272.258244</td>\n",
       "      <td>1.000000</td>\n",
       "    </tr>\n",
       "    <tr>\n",
       "      <th>50%</th>\n",
       "      <td>5508.500000</td>\n",
       "      <td>5780.182197</td>\n",
       "      <td>33889.500000</td>\n",
       "      <td>83.000000</td>\n",
       "      <td>14.000000</td>\n",
       "      <td>48.000000</td>\n",
       "      <td>0.000000</td>\n",
       "      <td>2.000000</td>\n",
       "      <td>383.945434</td>\n",
       "      <td>1.000000</td>\n",
       "    </tr>\n",
       "    <tr>\n",
       "      <th>75%</th>\n",
       "      <td>8218.750000</td>\n",
       "      <td>8962.167041</td>\n",
       "      <td>62320.000000</td>\n",
       "      <td>109.000000</td>\n",
       "      <td>23.000000</td>\n",
       "      <td>71.000000</td>\n",
       "      <td>0.000000</td>\n",
       "      <td>4.000000</td>\n",
       "      <td>547.514839</td>\n",
       "      <td>2.000000</td>\n",
       "    </tr>\n",
       "    <tr>\n",
       "      <th>max</th>\n",
       "      <td>10908.000000</td>\n",
       "      <td>83325.381190</td>\n",
       "      <td>99981.000000</td>\n",
       "      <td>298.000000</td>\n",
       "      <td>35.000000</td>\n",
       "      <td>99.000000</td>\n",
       "      <td>5.000000</td>\n",
       "      <td>9.000000</td>\n",
       "      <td>2893.239678</td>\n",
       "      <td>2.000000</td>\n",
       "    </tr>\n",
       "  </tbody>\n",
       "</table>\n",
       "</div>"
      ],
      "text/plain": [
       "          unnamed_0  customer_lifetime_value        income  \\\n",
       "count   9134.000000              9134.000000   9134.000000   \n",
       "mean    5490.357675              8004.940475  37657.380009   \n",
       "std     3148.183236              6870.967608  30379.904734   \n",
       "min        0.000000              1898.007675      0.000000   \n",
       "25%     2764.250000              3994.251794      0.000000   \n",
       "50%     5508.500000              5780.182197  33889.500000   \n",
       "75%     8218.750000              8962.167041  62320.000000   \n",
       "max    10908.000000             83325.381190  99981.000000   \n",
       "\n",
       "       monthly_premium_auto  months_since_last_claim  \\\n",
       "count           9134.000000              9134.000000   \n",
       "mean              93.219291                15.097000   \n",
       "std               34.407967                10.073257   \n",
       "min               61.000000                 0.000000   \n",
       "25%               68.000000                 6.000000   \n",
       "50%               83.000000                14.000000   \n",
       "75%              109.000000                23.000000   \n",
       "max              298.000000                35.000000   \n",
       "\n",
       "       months_since_policy_inception  number_of_open_complaints  \\\n",
       "count                    9134.000000                9134.000000   \n",
       "mean                       48.064594                   0.384388   \n",
       "std                        27.905991                   0.910384   \n",
       "min                         0.000000                   0.000000   \n",
       "25%                        24.000000                   0.000000   \n",
       "50%                        48.000000                   0.000000   \n",
       "75%                        71.000000                   0.000000   \n",
       "max                        99.000000                   5.000000   \n",
       "\n",
       "       number_of_policies  total_claim_amount        month  \n",
       "count         9134.000000         9134.000000  9134.000000  \n",
       "mean             2.966170          434.088794     1.463762  \n",
       "std              2.390182          290.500092     0.498712  \n",
       "min              1.000000            0.099007     1.000000  \n",
       "25%              1.000000          272.258244     1.000000  \n",
       "50%              2.000000          383.945434     1.000000  \n",
       "75%              4.000000          547.514839     2.000000  \n",
       "max              9.000000         2893.239678     2.000000  "
      ]
     },
     "execution_count": 24,
     "metadata": {},
     "output_type": "execute_result"
    }
   ],
   "source": [
    "# 2. Describe DataFrame\n",
    "df_cust.describe()"
   ]
  },
  {
   "cell_type": "code",
   "execution_count": 25,
   "metadata": {},
   "outputs": [
    {
     "data": {
      "image/png": "[encoded data removed]",
      "text/plain": [
       "<Figure size 432x288 with 1 Axes>"
      ]
     },
     "metadata": {
      "needs_background": "light"
     },
     "output_type": "display_data"
    }
   ],
   "source": [
    "# 3. Show a plot of the total number of responses\n",
    "df_cust['response'].value_counts().plot(kind='bar')\n",
    "plt.xlabel('Response')\n",
    "plt.ylabel('Amount')\n",
    "plt.title('Amount of every response');\n"
   ]
  },
  {
   "cell_type": "code",
   "execution_count": 26,
   "metadata": {},
   "outputs": [
    {
     "data": {
      "image/png": "[encoded data removed]",
      "text/plain": [
       "<Figure size 432x432 with 1 Axes>"
      ]
     },
     "metadata": {},
     "output_type": "display_data"
    }
   ],
   "source": [
    "# As a percentage in pie chart\n",
    "\n",
    "count_response=df_cust['response'].value_counts()\n",
    "plt.figure(figsize=(6,6))\n",
    "plt.pie(count_response, labels = count_response.index, autopct='%.1f%%', startangle = 90, counterclock = False);\n",
    "plt.axis('square')\n",
    "plt.title('Responses in percentage');"
   ]
  },
  {
   "cell_type": "code",
   "execution_count": 27,
   "metadata": {},
   "outputs": [
    {
     "data": {
      "text/plain": [
       "Agent          3477\n",
       "Branch         2567\n",
       "Call Center    1765\n",
       "Web            1325\n",
       "Name: sales_channel, dtype: int64"
      ]
     },
     "execution_count": 27,
     "metadata": {},
     "output_type": "execute_result"
    }
   ],
   "source": [
    "# 4. Show a plot of the response rate by the sales channel\n",
    "df_cust['sales_channel'].value_counts()"
   ]
  },
  {
   "cell_type": "code",
   "execution_count": 28,
   "metadata": {},
   "outputs": [
    {
     "data": {
      "image/png": "[encoded data removed]",
      "text/plain": [
       "<Figure size 432x288 with 1 Axes>"
      ]
     },
     "metadata": {
      "needs_background": "light"
     },
     "output_type": "display_data"
    }
   ],
   "source": [
    "ay = sb.histplot(x = df_cust['response'], hue=df_cust['sales_channel'], multiple=\"dodge\", \n",
    "                  stat = 'density', shrink = 0.7, common_norm=False)\n",
    "# With \"common_norm = False\" we achieve that the normalized values by sales channels sum up 1, otherwise the values would be \n",
    "# calculated taking into account all the responses. However, we are interested in knowing the normalized values by sales channel\n",
    "# in order to be able to compare the results between the different sales channels hence normalizing each histogram independently.\n",
    "\n",
    "sb.set(rc={'figure.figsize':(18,7)})\n",
    "plt.xlabel('Response')\n",
    "plt.ylabel('Rate')\n",
    "plt.legend(title='Sales channel', loc='upper right', labels=['Agent','Call Center','Branch','Web'])\n",
    "plt.title('Response rate by sales channel');\n",
    "plt.show()"
   ]
  },
  {
   "cell_type": "code",
   "execution_count": 29,
   "metadata": {},
   "outputs": [
    {
     "data": {
      "image/png": "[encoded data removed]",
      "text/plain": [
       "<Figure size 1296x504 with 1 Axes>"
      ]
     },
     "metadata": {},
     "output_type": "display_data"
    }
   ],
   "source": [
    "# 5. Show a plot of the response rate by the total claim amount. Here we will do an histogram with bins\n",
    "no_yes=df_cust.groupby('response')['total_claim_amount'].mean()\n",
    "no_yes.plot.barh(color=['C0', 'C1'])\n",
    "plt.xlabel('Total claim amount')\n",
    "plt.ylabel('Response')\n",
    "plt.title('Response rate');\n",
    "plt.show()\n",
    "\n",
    "# Below we are plotting the amount of total claims for every type of response,hence the amount of claims for every \"yes\" response\n",
    "# and for every \"no\" response."
   ]
  },
  {
   "cell_type": "code",
   "execution_count": 30,
   "metadata": {},
   "outputs": [
    {
     "data": {
      "text/plain": [
       "(99981, 0)"
      ]
     },
     "execution_count": 30,
     "metadata": {},
     "output_type": "execute_result"
    }
   ],
   "source": [
    "# 6. Show a plot of the response rate by income\n",
    "df_cust['income'].max(), df_cust['income'].min() # to know the minimum and maximum incomes.\n"
   ]
  },
  {
   "cell_type": "code",
   "execution_count": 31,
   "metadata": {},
   "outputs": [
    {
     "data": {
      "image/png": "[encoded data removed]",
      "text/plain": [
       "<Figure size 1296x504 with 2 Axes>"
      ]
     },
     "metadata": {},
     "output_type": "display_data"
    }
   ],
   "source": [
    "# In the following histograms it is possible to visualize how many \"yes\" and \"no\" responses are given by income within\n",
    "# 10,000$ bins.\n",
    "\n",
    "df_cust['income'].hist(by=df_cust['response'])\n",
    "plt.xlabel('Income')\n",
    "plt.ylabel('Response by income')\n",
    "plt.show()"
   ]
  },
  {
   "cell_type": "code",
   "execution_count": null,
   "metadata": {},
   "outputs": [],
   "source": []
  }
 ],
 "metadata": {
  "kernelspec": {
   "display_name": "Python 3",
   "language": "python",
   "name": "python3"
  },
  "language_info": {
   "codemirror_mode": {
    "name": "ipython",
    "version": 3
   },
   "file_extension": ".py",
   "mimetype": "text/x-python",
   "name": "python",
   "nbconvert_exporter": "python",
   "pygments_lexer": "ipython3",
   "version": "3.8.5"
  }
 },
 "nbformat": 4,
 "nbformat_minor": 4
}
